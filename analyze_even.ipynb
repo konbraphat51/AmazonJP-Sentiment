{
 "cells": [
  {
   "cell_type": "code",
   "execution_count": 41,
   "metadata": {},
   "outputs": [],
   "source": [
    "import pandas as pd\n",
    "import numpy as np"
   ]
  },
  {
   "attachments": {},
   "cell_type": "markdown",
   "metadata": {},
   "source": [
    "## データ前処理"
   ]
  },
  {
   "cell_type": "code",
   "execution_count": 42,
   "metadata": {},
   "outputs": [
    {
     "data": {
      "text/html": [
       "<div>\n",
       "<style scoped>\n",
       "    .dataframe tbody tr th:only-of-type {\n",
       "        vertical-align: middle;\n",
       "    }\n",
       "\n",
       "    .dataframe tbody tr th {\n",
       "        vertical-align: top;\n",
       "    }\n",
       "\n",
       "    .dataframe thead th {\n",
       "        text-align: right;\n",
       "    }\n",
       "</style>\n",
       "<table border=\"1\" class=\"dataframe\">\n",
       "  <thead>\n",
       "    <tr style=\"text-align: right;\">\n",
       "      <th></th>\n",
       "      <th>marketplace</th>\n",
       "      <th>customer_id</th>\n",
       "      <th>review_id</th>\n",
       "      <th>product_id</th>\n",
       "      <th>product_parent</th>\n",
       "      <th>product_title</th>\n",
       "      <th>product_category</th>\n",
       "      <th>star_rating</th>\n",
       "      <th>helpful_votes</th>\n",
       "      <th>total_votes</th>\n",
       "      <th>vine</th>\n",
       "      <th>verified_purchase</th>\n",
       "      <th>review_headline</th>\n",
       "      <th>review_body</th>\n",
       "      <th>review_date</th>\n",
       "    </tr>\n",
       "  </thead>\n",
       "  <tbody>\n",
       "    <tr>\n",
       "      <th>0</th>\n",
       "      <td>JP</td>\n",
       "      <td>38795574</td>\n",
       "      <td>RSZAJL84SRIAS</td>\n",
       "      <td>B004GFWRMY</td>\n",
       "      <td>900674814</td>\n",
       "      <td>Mobee The Magic Charger Wireless Charger for M...</td>\n",
       "      <td>PC</td>\n",
       "      <td>4</td>\n",
       "      <td>6</td>\n",
       "      <td>9</td>\n",
       "      <td>N</td>\n",
       "      <td>N</td>\n",
       "      <td>便利です！</td>\n",
       "      <td>MagicMouseは電池の持ちがあまり良くないので、画期的な商品と思い発売されてすぐ購入し...</td>\n",
       "      <td>2011-01-07</td>\n",
       "    </tr>\n",
       "    <tr>\n",
       "      <th>1</th>\n",
       "      <td>JP</td>\n",
       "      <td>8953696</td>\n",
       "      <td>RLOQPKXQ53WV9</td>\n",
       "      <td>B00F27CN92</td>\n",
       "      <td>178375143</td>\n",
       "      <td>ガーディアンズ 伝説の勇者たち [DVD]</td>\n",
       "      <td>Video DVD</td>\n",
       "      <td>3</td>\n",
       "      <td>1</td>\n",
       "      <td>3</td>\n",
       "      <td>N</td>\n",
       "      <td>Y</td>\n",
       "      <td>作品は素晴らしいです</td>\n",
       "      <td>ブルーレイで出してほしいなってことで☆３つ&lt;br /&gt;サンドマンのキラキラをぜひブルーレイで...</td>\n",
       "      <td>2014-10-18</td>\n",
       "    </tr>\n",
       "    <tr>\n",
       "      <th>2</th>\n",
       "      <td>JP</td>\n",
       "      <td>37479431</td>\n",
       "      <td>R3CYTOEWWCET7G</td>\n",
       "      <td>B00005QG9J</td>\n",
       "      <td>550594085</td>\n",
       "      <td>Morning View</td>\n",
       "      <td>Music</td>\n",
       "      <td>5</td>\n",
       "      <td>8</td>\n",
       "      <td>19</td>\n",
       "      <td>N</td>\n",
       "      <td>N</td>\n",
       "      <td>偏屈ものを魅せたふわふわパーマ</td>\n",
       "      <td>インキュバスと出会ったのがこのアルバムっていう人は多いと思います。僕もその一人です。 最初に...</td>\n",
       "      <td>2005-02-06</td>\n",
       "    </tr>\n",
       "    <tr>\n",
       "      <th>3</th>\n",
       "      <td>JP</td>\n",
       "      <td>35816213</td>\n",
       "      <td>R2S2P41DDTG3AX</td>\n",
       "      <td>B000K4X2UQ</td>\n",
       "      <td>336835114</td>\n",
       "      <td>Live in the Heart of the City</td>\n",
       "      <td>Music</td>\n",
       "      <td>3</td>\n",
       "      <td>1</td>\n",
       "      <td>4</td>\n",
       "      <td>N</td>\n",
       "      <td>Y</td>\n",
       "      <td>ロックだぜ！！</td>\n",
       "      <td>初期の曲はあまり知らないけど、世の中の人にしっかり初期の曲を聴いていただきたい！！&lt;br /...</td>\n",
       "      <td>2015-03-22</td>\n",
       "    </tr>\n",
       "    <tr>\n",
       "      <th>4</th>\n",
       "      <td>JP</td>\n",
       "      <td>6774328</td>\n",
       "      <td>ROK4PFNN9GJWF</td>\n",
       "      <td>B00U22SZS0</td>\n",
       "      <td>262367368</td>\n",
       "      <td>10:00 P.M. - 11:00 A.M.</td>\n",
       "      <td>Digital_Video_Download</td>\n",
       "      <td>5</td>\n",
       "      <td>3</td>\n",
       "      <td>20</td>\n",
       "      <td>N</td>\n",
       "      <td>Y</td>\n",
       "      <td>・</td>\n",
       "      <td>オードリーが殺されたのがショック…&lt;br /&gt;&lt;br /&gt;今度はロシアに連れて行かれてエンデ...</td>\n",
       "      <td>2015-03-08</td>\n",
       "    </tr>\n",
       "  </tbody>\n",
       "</table>\n",
       "</div>"
      ],
      "text/plain": [
       "  marketplace  customer_id       review_id  product_id  product_parent  \\\n",
       "0          JP     38795574   RSZAJL84SRIAS  B004GFWRMY       900674814   \n",
       "1          JP      8953696   RLOQPKXQ53WV9  B00F27CN92       178375143   \n",
       "2          JP     37479431  R3CYTOEWWCET7G  B00005QG9J       550594085   \n",
       "3          JP     35816213  R2S2P41DDTG3AX  B000K4X2UQ       336835114   \n",
       "4          JP      6774328   ROK4PFNN9GJWF  B00U22SZS0       262367368   \n",
       "\n",
       "                                       product_title        product_category  \\\n",
       "0  Mobee The Magic Charger Wireless Charger for M...                      PC   \n",
       "1                              ガーディアンズ 伝説の勇者たち [DVD]               Video DVD   \n",
       "2                                       Morning View                   Music   \n",
       "3                      Live in the Heart of the City                   Music   \n",
       "4                            10:00 P.M. - 11:00 A.M.  Digital_Video_Download   \n",
       "\n",
       "   star_rating  helpful_votes  total_votes vine verified_purchase  \\\n",
       "0            4              6            9    N                 N   \n",
       "1            3              1            3    N                 Y   \n",
       "2            5              8           19    N                 N   \n",
       "3            3              1            4    N                 Y   \n",
       "4            5              3           20    N                 Y   \n",
       "\n",
       "   review_headline                                        review_body  \\\n",
       "0            便利です！  MagicMouseは電池の持ちがあまり良くないので、画期的な商品と思い発売されてすぐ購入し...   \n",
       "1       作品は素晴らしいです  ブルーレイで出してほしいなってことで☆３つ<br />サンドマンのキラキラをぜひブルーレイで...   \n",
       "2  偏屈ものを魅せたふわふわパーマ  インキュバスと出会ったのがこのアルバムっていう人は多いと思います。僕もその一人です。 最初に...   \n",
       "3          ロックだぜ！！  初期の曲はあまり知らないけど、世の中の人にしっかり初期の曲を聴いていただきたい！！<br /...   \n",
       "4                ・  オードリーが殺されたのがショック…<br /><br />今度はロシアに連れて行かれてエンデ...   \n",
       "\n",
       "  review_date  \n",
       "0  2011-01-07  \n",
       "1  2014-10-18  \n",
       "2  2005-02-06  \n",
       "3  2015-03-22  \n",
       "4  2015-03-08  "
      ]
     },
     "execution_count": 42,
     "metadata": {},
     "output_type": "execute_result"
    }
   ],
   "source": [
    "#生データ\n",
    "df_all = pd.read_table(\"reviews_smaller\")\n",
    "df_all.head()"
   ]
  },
  {
   "cell_type": "code",
   "execution_count": 43,
   "metadata": {},
   "outputs": [
    {
     "name": "stdout",
     "output_type": "stream",
     "text": [
      "(10000, 15)\n"
     ]
    }
   ],
   "source": [
    "print(df_all.shape)"
   ]
  },
  {
   "cell_type": "code",
   "execution_count": 44,
   "metadata": {},
   "outputs": [
    {
     "name": "stderr",
     "output_type": "stream",
     "text": [
      "C:\\Users\\brigh\\AppData\\Local\\Temp\\ipykernel_12136\\753980341.py:3: SettingWithCopyWarning: \n",
      "A value is trying to be set on a copy of a slice from a DataFrame.\n",
      "Try using .loc[row_indexer,col_indexer] = value instead\n",
      "\n",
      "See the caveats in the documentation: https://pandas.pydata.org/pandas-docs/stable/user_guide/indexing.html#returning-a-view-versus-a-copy\n",
      "  df_pos[\"label\"] = \"pos\"\n",
      "C:\\Users\\brigh\\AppData\\Local\\Temp\\ipykernel_12136\\753980341.py:7: SettingWithCopyWarning: \n",
      "A value is trying to be set on a copy of a slice from a DataFrame.\n",
      "Try using .loc[row_indexer,col_indexer] = value instead\n",
      "\n",
      "See the caveats in the documentation: https://pandas.pydata.org/pandas-docs/stable/user_guide/indexing.html#returning-a-view-versus-a-copy\n",
      "  df_neg[\"label\"] = \"neg\"\n"
     ]
    }
   ],
   "source": [
    "#POSitive\n",
    "df_pos = df_all[df_all[\"star_rating\"] == 5]\n",
    "df_pos[\"label\"] = \"pos\"\n",
    "\n",
    "#NEGative\n",
    "df_neg = df_all[df_all[\"star_rating\"] == 1]\n",
    "df_neg[\"label\"] = \"neg\"\n",
    "\n",
    "#POSをNEGと同数になるまで減らす\n",
    "df_pos = df_pos.sample(df_neg.shape[0], random_state=334)\n",
    "\n",
    "#pos + neg\n",
    "df_mix = pd.concat([df_pos, df_neg])"
   ]
  },
  {
   "cell_type": "code",
   "execution_count": 45,
   "metadata": {},
   "outputs": [],
   "source": [
    "#学習用とテスト用にわける\n",
    "from sklearn.model_selection import train_test_split\n",
    "train_df, valid_df = train_test_split(df_mix, test_size=0.15, random_state=334)\n",
    "train_df = train_df.reset_index(drop=True)\n",
    "valid_df = valid_df.reset_index(drop=True)"
   ]
  },
  {
   "cell_type": "code",
   "execution_count": 46,
   "metadata": {},
   "outputs": [
    {
     "name": "stdout",
     "output_type": "stream",
     "text": [
      "neg    0.513453\n",
      "pos    0.486547\n",
      "Name: label, dtype: float64\n"
     ]
    }
   ],
   "source": [
    "#分布\n",
    "print(train_df[\"label\"].value_counts() / train_df.shape[0])"
   ]
  },
  {
   "cell_type": "code",
   "execution_count": 47,
   "metadata": {},
   "outputs": [
    {
     "data": {
      "text/plain": [
       "((892,), (158,))"
      ]
     },
     "execution_count": 47,
     "metadata": {},
     "output_type": "execute_result"
    }
   ],
   "source": [
    "#ラベル（pos, neg)\n",
    "y_train = train_df[\"label\"]\n",
    "y_valid = valid_df[\"label\"]\n",
    "\n",
    "y_train.shape, y_valid.shape"
   ]
  },
  {
   "attachments": {},
   "cell_type": "markdown",
   "metadata": {},
   "source": [
    "### TFIDFを計算"
   ]
  },
  {
   "cell_type": "code",
   "execution_count": 48,
   "metadata": {},
   "outputs": [],
   "source": [
    "from sklearn.feature_extraction.text import TfidfVectorizer\n",
    "from MeCab import Tagger"
   ]
  },
  {
   "cell_type": "code",
   "execution_count": 49,
   "metadata": {},
   "outputs": [],
   "source": [
    "def tokenize(text):\n",
    "    tagger = Tagger(\"-O wakati\")\n",
    "    return tagger.parse(text)"
   ]
  },
  {
   "cell_type": "code",
   "execution_count": 50,
   "metadata": {},
   "outputs": [
    {
     "name": "stderr",
     "output_type": "stream",
     "text": [
      "c:\\Users\\brigh\\anaconda3\\envs\\jpnlp\\lib\\site-packages\\sklearn\\feature_extraction\\text.py:516: UserWarning: The parameter 'token_pattern' will not be used since 'tokenizer' is not None'\n",
      "  warnings.warn(\n"
     ]
    }
   ],
   "source": [
    "vectorizer = TfidfVectorizer(tokenizer=tokenize, ngram_range = (1,2 ), min_df=10, sublinear_tf=True)\n",
    "tfidf_fit = vectorizer.fit(df_all[\"review_body\"])\n",
    "text_all = tfidf_fit.transform(df_all[\"review_body\"])\n",
    "text_train = tfidf_fit.transform(train_df[\"review_body\"])\n",
    "text_valid = tfidf_fit.transform(valid_df[\"review_body\"])"
   ]
  },
  {
   "attachments": {},
   "cell_type": "markdown",
   "metadata": {},
   "source": [
    "## ロジスティック回帰"
   ]
  },
  {
   "attachments": {},
   "cell_type": "markdown",
   "metadata": {},
   "source": [
    "### 学習"
   ]
  },
  {
   "cell_type": "code",
   "execution_count": 51,
   "metadata": {},
   "outputs": [],
   "source": [
    "from sklearn.linear_model import LogisticRegression"
   ]
  },
  {
   "cell_type": "code",
   "execution_count": 52,
   "metadata": {},
   "outputs": [
    {
     "data": {
      "text/plain": [
       "((892, 12900), (158, 12900))"
      ]
     },
     "execution_count": 52,
     "metadata": {},
     "output_type": "execute_result"
    }
   ],
   "source": [
    "x_train = text_train.toarray()\n",
    "x_valid = text_valid.toarray()\n",
    "\n",
    "x_train.shape, x_valid.shape"
   ]
  },
  {
   "cell_type": "code",
   "execution_count": 53,
   "metadata": {},
   "outputs": [
    {
     "data": {
      "text/plain": [
       "0.8227848101265823"
      ]
     },
     "execution_count": 53,
     "metadata": {},
     "output_type": "execute_result"
    }
   ],
   "source": [
    "model = LogisticRegression(C=2, penalty=\"l2\", solver=\"liblinear\", dual=False, multi_class=\"ovr\")\n",
    "model.fit(x_train,y_train)\n",
    "model.score(x_valid,y_valid)"
   ]
  },
  {
   "attachments": {},
   "cell_type": "markdown",
   "metadata": {},
   "source": [
    "### 予測"
   ]
  },
  {
   "cell_type": "code",
   "execution_count": 54,
   "metadata": {},
   "outputs": [],
   "source": [
    "label_all = model.predict(text_all)"
   ]
  },
  {
   "cell_type": "code",
   "execution_count": 55,
   "metadata": {},
   "outputs": [
    {
     "data": {
      "text/html": [
       "<div>\n",
       "<style scoped>\n",
       "    .dataframe tbody tr th:only-of-type {\n",
       "        vertical-align: middle;\n",
       "    }\n",
       "\n",
       "    .dataframe tbody tr th {\n",
       "        vertical-align: top;\n",
       "    }\n",
       "\n",
       "    .dataframe thead th {\n",
       "        text-align: right;\n",
       "    }\n",
       "</style>\n",
       "<table border=\"1\" class=\"dataframe\">\n",
       "  <thead>\n",
       "    <tr style=\"text-align: right;\">\n",
       "      <th></th>\n",
       "      <th>marketplace</th>\n",
       "      <th>customer_id</th>\n",
       "      <th>review_id</th>\n",
       "      <th>product_id</th>\n",
       "      <th>product_parent</th>\n",
       "      <th>product_title</th>\n",
       "      <th>product_category</th>\n",
       "      <th>star_rating</th>\n",
       "      <th>helpful_votes</th>\n",
       "      <th>total_votes</th>\n",
       "      <th>vine</th>\n",
       "      <th>verified_purchase</th>\n",
       "      <th>review_headline</th>\n",
       "      <th>review_body</th>\n",
       "      <th>review_date</th>\n",
       "      <th>predicted_label</th>\n",
       "    </tr>\n",
       "  </thead>\n",
       "  <tbody>\n",
       "    <tr>\n",
       "      <th>0</th>\n",
       "      <td>JP</td>\n",
       "      <td>38795574</td>\n",
       "      <td>RSZAJL84SRIAS</td>\n",
       "      <td>B004GFWRMY</td>\n",
       "      <td>900674814</td>\n",
       "      <td>Mobee The Magic Charger Wireless Charger for M...</td>\n",
       "      <td>PC</td>\n",
       "      <td>4</td>\n",
       "      <td>6</td>\n",
       "      <td>9</td>\n",
       "      <td>N</td>\n",
       "      <td>N</td>\n",
       "      <td>便利です！</td>\n",
       "      <td>MagicMouseは電池の持ちがあまり良くないので、画期的な商品と思い発売されてすぐ購入し...</td>\n",
       "      <td>2011-01-07</td>\n",
       "      <td>neg</td>\n",
       "    </tr>\n",
       "    <tr>\n",
       "      <th>1</th>\n",
       "      <td>JP</td>\n",
       "      <td>8953696</td>\n",
       "      <td>RLOQPKXQ53WV9</td>\n",
       "      <td>B00F27CN92</td>\n",
       "      <td>178375143</td>\n",
       "      <td>ガーディアンズ 伝説の勇者たち [DVD]</td>\n",
       "      <td>Video DVD</td>\n",
       "      <td>3</td>\n",
       "      <td>1</td>\n",
       "      <td>3</td>\n",
       "      <td>N</td>\n",
       "      <td>Y</td>\n",
       "      <td>作品は素晴らしいです</td>\n",
       "      <td>ブルーレイで出してほしいなってことで☆３つ&lt;br /&gt;サンドマンのキラキラをぜひブルーレイで...</td>\n",
       "      <td>2014-10-18</td>\n",
       "      <td>neg</td>\n",
       "    </tr>\n",
       "    <tr>\n",
       "      <th>2</th>\n",
       "      <td>JP</td>\n",
       "      <td>37479431</td>\n",
       "      <td>R3CYTOEWWCET7G</td>\n",
       "      <td>B00005QG9J</td>\n",
       "      <td>550594085</td>\n",
       "      <td>Morning View</td>\n",
       "      <td>Music</td>\n",
       "      <td>5</td>\n",
       "      <td>8</td>\n",
       "      <td>19</td>\n",
       "      <td>N</td>\n",
       "      <td>N</td>\n",
       "      <td>偏屈ものを魅せたふわふわパーマ</td>\n",
       "      <td>インキュバスと出会ったのがこのアルバムっていう人は多いと思います。僕もその一人です。 最初に...</td>\n",
       "      <td>2005-02-06</td>\n",
       "      <td>pos</td>\n",
       "    </tr>\n",
       "    <tr>\n",
       "      <th>3</th>\n",
       "      <td>JP</td>\n",
       "      <td>35816213</td>\n",
       "      <td>R2S2P41DDTG3AX</td>\n",
       "      <td>B000K4X2UQ</td>\n",
       "      <td>336835114</td>\n",
       "      <td>Live in the Heart of the City</td>\n",
       "      <td>Music</td>\n",
       "      <td>3</td>\n",
       "      <td>1</td>\n",
       "      <td>4</td>\n",
       "      <td>N</td>\n",
       "      <td>Y</td>\n",
       "      <td>ロックだぜ！！</td>\n",
       "      <td>初期の曲はあまり知らないけど、世の中の人にしっかり初期の曲を聴いていただきたい！！&lt;br /...</td>\n",
       "      <td>2015-03-22</td>\n",
       "      <td>pos</td>\n",
       "    </tr>\n",
       "    <tr>\n",
       "      <th>4</th>\n",
       "      <td>JP</td>\n",
       "      <td>6774328</td>\n",
       "      <td>ROK4PFNN9GJWF</td>\n",
       "      <td>B00U22SZS0</td>\n",
       "      <td>262367368</td>\n",
       "      <td>10:00 P.M. - 11:00 A.M.</td>\n",
       "      <td>Digital_Video_Download</td>\n",
       "      <td>5</td>\n",
       "      <td>3</td>\n",
       "      <td>20</td>\n",
       "      <td>N</td>\n",
       "      <td>Y</td>\n",
       "      <td>・</td>\n",
       "      <td>オードリーが殺されたのがショック…&lt;br /&gt;&lt;br /&gt;今度はロシアに連れて行かれてエンデ...</td>\n",
       "      <td>2015-03-08</td>\n",
       "      <td>neg</td>\n",
       "    </tr>\n",
       "  </tbody>\n",
       "</table>\n",
       "</div>"
      ],
      "text/plain": [
       "  marketplace  customer_id       review_id  product_id  product_parent  \\\n",
       "0          JP     38795574   RSZAJL84SRIAS  B004GFWRMY       900674814   \n",
       "1          JP      8953696   RLOQPKXQ53WV9  B00F27CN92       178375143   \n",
       "2          JP     37479431  R3CYTOEWWCET7G  B00005QG9J       550594085   \n",
       "3          JP     35816213  R2S2P41DDTG3AX  B000K4X2UQ       336835114   \n",
       "4          JP      6774328   ROK4PFNN9GJWF  B00U22SZS0       262367368   \n",
       "\n",
       "                                       product_title        product_category  \\\n",
       "0  Mobee The Magic Charger Wireless Charger for M...                      PC   \n",
       "1                              ガーディアンズ 伝説の勇者たち [DVD]               Video DVD   \n",
       "2                                       Morning View                   Music   \n",
       "3                      Live in the Heart of the City                   Music   \n",
       "4                            10:00 P.M. - 11:00 A.M.  Digital_Video_Download   \n",
       "\n",
       "   star_rating  helpful_votes  total_votes vine verified_purchase  \\\n",
       "0            4              6            9    N                 N   \n",
       "1            3              1            3    N                 Y   \n",
       "2            5              8           19    N                 N   \n",
       "3            3              1            4    N                 Y   \n",
       "4            5              3           20    N                 Y   \n",
       "\n",
       "   review_headline                                        review_body  \\\n",
       "0            便利です！  MagicMouseは電池の持ちがあまり良くないので、画期的な商品と思い発売されてすぐ購入し...   \n",
       "1       作品は素晴らしいです  ブルーレイで出してほしいなってことで☆３つ<br />サンドマンのキラキラをぜひブルーレイで...   \n",
       "2  偏屈ものを魅せたふわふわパーマ  インキュバスと出会ったのがこのアルバムっていう人は多いと思います。僕もその一人です。 最初に...   \n",
       "3          ロックだぜ！！  初期の曲はあまり知らないけど、世の中の人にしっかり初期の曲を聴いていただきたい！！<br /...   \n",
       "4                ・  オードリーが殺されたのがショック…<br /><br />今度はロシアに連れて行かれてエンデ...   \n",
       "\n",
       "  review_date predicted_label  \n",
       "0  2011-01-07             neg  \n",
       "1  2014-10-18             neg  \n",
       "2  2005-02-06             pos  \n",
       "3  2015-03-22             pos  \n",
       "4  2015-03-08             neg  "
      ]
     },
     "execution_count": 55,
     "metadata": {},
     "output_type": "execute_result"
    }
   ],
   "source": [
    "df_all[\"predicted_label\"] = label_all\n",
    "\n",
    "df_all.head()"
   ]
  },
  {
   "cell_type": "code",
   "execution_count": 56,
   "metadata": {},
   "outputs": [
    {
     "data": {
      "text/html": [
       "<div>\n",
       "<style scoped>\n",
       "    .dataframe tbody tr th:only-of-type {\n",
       "        vertical-align: middle;\n",
       "    }\n",
       "\n",
       "    .dataframe tbody tr th {\n",
       "        vertical-align: top;\n",
       "    }\n",
       "\n",
       "    .dataframe thead th {\n",
       "        text-align: right;\n",
       "    }\n",
       "</style>\n",
       "<table border=\"1\" class=\"dataframe\">\n",
       "  <thead>\n",
       "    <tr style=\"text-align: right;\">\n",
       "      <th></th>\n",
       "      <th>pos</th>\n",
       "      <th>neg</th>\n",
       "    </tr>\n",
       "  </thead>\n",
       "  <tbody>\n",
       "    <tr>\n",
       "      <th>1-stars</th>\n",
       "      <td>0.040000</td>\n",
       "      <td>0.960000</td>\n",
       "    </tr>\n",
       "    <tr>\n",
       "      <th>2-stars</th>\n",
       "      <td>0.294118</td>\n",
       "      <td>0.705882</td>\n",
       "    </tr>\n",
       "    <tr>\n",
       "      <th>3-stars</th>\n",
       "      <td>0.449102</td>\n",
       "      <td>0.550898</td>\n",
       "    </tr>\n",
       "    <tr>\n",
       "      <th>4-stars</th>\n",
       "      <td>0.661687</td>\n",
       "      <td>0.338313</td>\n",
       "    </tr>\n",
       "    <tr>\n",
       "      <th>5-stars</th>\n",
       "      <td>0.796445</td>\n",
       "      <td>0.203555</td>\n",
       "    </tr>\n",
       "  </tbody>\n",
       "</table>\n",
       "</div>"
      ],
      "text/plain": [
       "              pos       neg\n",
       "1-stars  0.040000  0.960000\n",
       "2-stars  0.294118  0.705882\n",
       "3-stars  0.449102  0.550898\n",
       "4-stars  0.661687  0.338313\n",
       "5-stars  0.796445  0.203555"
      ]
     },
     "execution_count": 56,
     "metadata": {},
     "output_type": "execute_result"
    }
   ],
   "source": [
    "def get_ratio(df, stars_n, sentiment):\n",
    "    return df[(df[\"predicted_label\"]==sentiment) & (df[\"star_rating\"]==stars_n)].shape[0] / df[df[\"star_rating\"]==stars_n].shape[0]\n",
    "\n",
    "result = pd.DataFrame(\n",
    "    data = [[get_ratio(df_all, cnt, \"pos\"), get_ratio(df_all, cnt, \"neg\")]\n",
    "                for cnt in range(1, 6)],\n",
    "    index = [str(cnt)+\"-stars\" for cnt in range(1,6)],\n",
    "    columns = [\"pos\", \"neg\"]\n",
    ")\n",
    "\n",
    "result"
   ]
  }
 ],
 "metadata": {
  "kernelspec": {
   "display_name": "jpnlp",
   "language": "python",
   "name": "python3"
  },
  "language_info": {
   "codemirror_mode": {
    "name": "ipython",
    "version": 3
   },
   "file_extension": ".py",
   "mimetype": "text/x-python",
   "name": "python",
   "nbconvert_exporter": "python",
   "pygments_lexer": "ipython3",
   "version": "3.9.15 (main, Nov 24 2022, 14:39:17) [MSC v.1916 64 bit (AMD64)]"
  },
  "orig_nbformat": 4,
  "vscode": {
   "interpreter": {
    "hash": "af19612f8f38f6812d87a5ef9419a460d9700d7e1cf8ff071cf581e2ee4d6233"
   }
  }
 },
 "nbformat": 4,
 "nbformat_minor": 2
}
