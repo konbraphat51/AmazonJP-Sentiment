{
 "cells": [
  {
   "cell_type": "code",
   "execution_count": 51,
   "metadata": {},
   "outputs": [],
   "source": [
    "import pandas as pd\n",
    "import random\n",
    "\n",
    "random.seed(334)"
   ]
  },
  {
   "cell_type": "code",
   "execution_count": 52,
   "metadata": {},
   "outputs": [],
   "source": [
    "#生データ\n",
    "#https://s3.amazonaws.com/amazon-reviews-pds/tsv/amazon_reviews_multilingual_JP_v1_00.tsv.gz\n",
    "origin_df = pd.read_table(\"amazon_reviews_multilingual_JP_v1_00.tsv\")"
   ]
  },
  {
   "cell_type": "code",
   "execution_count": 53,
   "metadata": {},
   "outputs": [],
   "source": [
    "#取り出したい数\n",
    "wanted = 10000"
   ]
  },
  {
   "cell_type": "code",
   "execution_count": 54,
   "metadata": {},
   "outputs": [
    {
     "data": {
      "text/plain": [
       "(10000, 15)"
      ]
     },
     "execution_count": 54,
     "metadata": {},
     "output_type": "execute_result"
    }
   ],
   "source": [
    "#抽出\n",
    "df = origin_df.sample(n=wanted, random_state=334)\n",
    "\n",
    "df.shape"
   ]
  },
  {
   "cell_type": "code",
   "execution_count": 55,
   "metadata": {},
   "outputs": [
    {
     "data": {
      "text/html": [
       "<div>\n",
       "<style scoped>\n",
       "    .dataframe tbody tr th:only-of-type {\n",
       "        vertical-align: middle;\n",
       "    }\n",
       "\n",
       "    .dataframe tbody tr th {\n",
       "        vertical-align: top;\n",
       "    }\n",
       "\n",
       "    .dataframe thead th {\n",
       "        text-align: right;\n",
       "    }\n",
       "</style>\n",
       "<table border=\"1\" class=\"dataframe\">\n",
       "  <thead>\n",
       "    <tr style=\"text-align: right;\">\n",
       "      <th></th>\n",
       "      <th>marketplace</th>\n",
       "      <th>customer_id</th>\n",
       "      <th>review_id</th>\n",
       "      <th>product_id</th>\n",
       "      <th>product_parent</th>\n",
       "      <th>product_title</th>\n",
       "      <th>product_category</th>\n",
       "      <th>star_rating</th>\n",
       "      <th>helpful_votes</th>\n",
       "      <th>total_votes</th>\n",
       "      <th>vine</th>\n",
       "      <th>verified_purchase</th>\n",
       "      <th>review_headline</th>\n",
       "      <th>review_body</th>\n",
       "      <th>review_date</th>\n",
       "    </tr>\n",
       "  </thead>\n",
       "  <tbody>\n",
       "    <tr>\n",
       "      <th>163057</th>\n",
       "      <td>JP</td>\n",
       "      <td>38795574</td>\n",
       "      <td>RSZAJL84SRIAS</td>\n",
       "      <td>B004GFWRMY</td>\n",
       "      <td>900674814</td>\n",
       "      <td>Mobee The Magic Charger Wireless Charger for M...</td>\n",
       "      <td>PC</td>\n",
       "      <td>4</td>\n",
       "      <td>6</td>\n",
       "      <td>9</td>\n",
       "      <td>N</td>\n",
       "      <td>N</td>\n",
       "      <td>便利です！</td>\n",
       "      <td>MagicMouseは電池の持ちがあまり良くないので、画期的な商品と思い発売されてすぐ購入し...</td>\n",
       "      <td>2011-01-07</td>\n",
       "    </tr>\n",
       "    <tr>\n",
       "      <th>10453</th>\n",
       "      <td>JP</td>\n",
       "      <td>8953696</td>\n",
       "      <td>RLOQPKXQ53WV9</td>\n",
       "      <td>B00F27CN92</td>\n",
       "      <td>178375143</td>\n",
       "      <td>ガーディアンズ 伝説の勇者たち [DVD]</td>\n",
       "      <td>Video DVD</td>\n",
       "      <td>3</td>\n",
       "      <td>1</td>\n",
       "      <td>3</td>\n",
       "      <td>N</td>\n",
       "      <td>Y</td>\n",
       "      <td>作品は素晴らしいです</td>\n",
       "      <td>ブルーレイで出してほしいなってことで☆３つ&lt;br /&gt;サンドマンのキラキラをぜひブルーレイで...</td>\n",
       "      <td>2014-10-18</td>\n",
       "    </tr>\n",
       "    <tr>\n",
       "      <th>139272</th>\n",
       "      <td>JP</td>\n",
       "      <td>37479431</td>\n",
       "      <td>R3CYTOEWWCET7G</td>\n",
       "      <td>B00005QG9J</td>\n",
       "      <td>550594085</td>\n",
       "      <td>Morning View</td>\n",
       "      <td>Music</td>\n",
       "      <td>5</td>\n",
       "      <td>8</td>\n",
       "      <td>19</td>\n",
       "      <td>N</td>\n",
       "      <td>N</td>\n",
       "      <td>偏屈ものを魅せたふわふわパーマ</td>\n",
       "      <td>インキュバスと出会ったのがこのアルバムっていう人は多いと思います。僕もその一人です。 最初に...</td>\n",
       "      <td>2005-02-06</td>\n",
       "    </tr>\n",
       "    <tr>\n",
       "      <th>116288</th>\n",
       "      <td>JP</td>\n",
       "      <td>35816213</td>\n",
       "      <td>R2S2P41DDTG3AX</td>\n",
       "      <td>B000K4X2UQ</td>\n",
       "      <td>336835114</td>\n",
       "      <td>Live in the Heart of the City</td>\n",
       "      <td>Music</td>\n",
       "      <td>3</td>\n",
       "      <td>1</td>\n",
       "      <td>4</td>\n",
       "      <td>N</td>\n",
       "      <td>Y</td>\n",
       "      <td>ロックだぜ！！</td>\n",
       "      <td>初期の曲はあまり知らないけど、世の中の人にしっかり初期の曲を聴いていただきたい！！&lt;br /...</td>\n",
       "      <td>2015-03-22</td>\n",
       "    </tr>\n",
       "    <tr>\n",
       "      <th>1478</th>\n",
       "      <td>JP</td>\n",
       "      <td>6774328</td>\n",
       "      <td>ROK4PFNN9GJWF</td>\n",
       "      <td>B00U22SZS0</td>\n",
       "      <td>262367368</td>\n",
       "      <td>10:00 P.M. - 11:00 A.M.</td>\n",
       "      <td>Digital_Video_Download</td>\n",
       "      <td>5</td>\n",
       "      <td>3</td>\n",
       "      <td>20</td>\n",
       "      <td>N</td>\n",
       "      <td>Y</td>\n",
       "      <td>・</td>\n",
       "      <td>オードリーが殺されたのがショック…&lt;br /&gt;&lt;br /&gt;今度はロシアに連れて行かれてエンデ...</td>\n",
       "      <td>2015-03-08</td>\n",
       "    </tr>\n",
       "  </tbody>\n",
       "</table>\n",
       "</div>"
      ],
      "text/plain": [
       "       marketplace  customer_id       review_id  product_id  product_parent  \\\n",
       "163057          JP     38795574   RSZAJL84SRIAS  B004GFWRMY       900674814   \n",
       "10453           JP      8953696   RLOQPKXQ53WV9  B00F27CN92       178375143   \n",
       "139272          JP     37479431  R3CYTOEWWCET7G  B00005QG9J       550594085   \n",
       "116288          JP     35816213  R2S2P41DDTG3AX  B000K4X2UQ       336835114   \n",
       "1478            JP      6774328   ROK4PFNN9GJWF  B00U22SZS0       262367368   \n",
       "\n",
       "                                            product_title  \\\n",
       "163057  Mobee The Magic Charger Wireless Charger for M...   \n",
       "10453                               ガーディアンズ 伝説の勇者たち [DVD]   \n",
       "139272                                       Morning View   \n",
       "116288                      Live in the Heart of the City   \n",
       "1478                              10:00 P.M. - 11:00 A.M.   \n",
       "\n",
       "              product_category  star_rating  helpful_votes  total_votes vine  \\\n",
       "163057                      PC            4              6            9    N   \n",
       "10453                Video DVD            3              1            3    N   \n",
       "139272                   Music            5              8           19    N   \n",
       "116288                   Music            3              1            4    N   \n",
       "1478    Digital_Video_Download            5              3           20    N   \n",
       "\n",
       "       verified_purchase  review_headline  \\\n",
       "163057                 N            便利です！   \n",
       "10453                  Y       作品は素晴らしいです   \n",
       "139272                 N  偏屈ものを魅せたふわふわパーマ   \n",
       "116288                 Y          ロックだぜ！！   \n",
       "1478                   Y                ・   \n",
       "\n",
       "                                              review_body review_date  \n",
       "163057  MagicMouseは電池の持ちがあまり良くないので、画期的な商品と思い発売されてすぐ購入し...  2011-01-07  \n",
       "10453   ブルーレイで出してほしいなってことで☆３つ<br />サンドマンのキラキラをぜひブルーレイで...  2014-10-18  \n",
       "139272  インキュバスと出会ったのがこのアルバムっていう人は多いと思います。僕もその一人です。 最初に...  2005-02-06  \n",
       "116288  初期の曲はあまり知らないけど、世の中の人にしっかり初期の曲を聴いていただきたい！！<br /...  2015-03-22  \n",
       "1478    オードリーが殺されたのがショック…<br /><br />今度はロシアに連れて行かれてエンデ...  2015-03-08  "
      ]
     },
     "execution_count": 55,
     "metadata": {},
     "output_type": "execute_result"
    }
   ],
   "source": [
    "df.head()"
   ]
  },
  {
   "cell_type": "code",
   "execution_count": 56,
   "metadata": {},
   "outputs": [],
   "source": [
    "df.to_csv(\"reviews_smaller\", sep=\"\\t\", index = False)"
   ]
  }
 ],
 "metadata": {
  "kernelspec": {
   "display_name": "jpnlp",
   "language": "python",
   "name": "python3"
  },
  "language_info": {
   "codemirror_mode": {
    "name": "ipython",
    "version": 3
   },
   "file_extension": ".py",
   "mimetype": "text/x-python",
   "name": "python",
   "nbconvert_exporter": "python",
   "pygments_lexer": "ipython3",
   "version": "3.9.16"
  },
  "orig_nbformat": 4,
  "vscode": {
   "interpreter": {
    "hash": "af19612f8f38f6812d87a5ef9419a460d9700d7e1cf8ff071cf581e2ee4d6233"
   }
  }
 },
 "nbformat": 4,
 "nbformat_minor": 2
}
